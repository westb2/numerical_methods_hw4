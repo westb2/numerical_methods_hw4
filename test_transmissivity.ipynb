{
 "cells": [
  {
   "cell_type": "code",
   "execution_count": null,
   "metadata": {},
   "outputs": [],
   "source": [
    "class Transmissivity(object):\n",
    "    def __init__(self,_x,_y):\n",
    "        self.X = _x\n",
    "        self.Y = _y\n",
    "\n",
    "    def __init__(self,(_x,_y)):\n",
    "        self.X = _x\n",
    "        self.Y = _y\n",
    "\n",
    "T = Transmissivity"
   ]
  }
 ],
 "metadata": {
  "language_info": {
   "name": "python"
  },
  "orig_nbformat": 4
 },
 "nbformat": 4,
 "nbformat_minor": 2
}
