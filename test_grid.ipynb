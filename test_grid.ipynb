{
 "cells": [
  {
   "cell_type": "code",
   "execution_count": 681,
   "metadata": {},
   "outputs": [],
   "source": [
    "import math\n",
    "import numpy as np\n",
    "import seaborn as sns\n",
    "import matplotlib.pylab as plt"
   ]
  },
  {
   "cell_type": "code",
   "execution_count": 682,
   "metadata": {},
   "outputs": [],
   "source": [
    "# notes: Constant BCs and Sources go on RHS. Diffusion terms go in matrix"
   ]
  },
  {
   "cell_type": "code",
   "execution_count": 683,
   "metadata": {},
   "outputs": [],
   "source": [
    "class Point_Source(object):\n",
    "    def __init__(self, _node, _value):\n",
    "        self.node = _node\n",
    "        self.value = _value"
   ]
  },
  {
   "cell_type": "code",
   "execution_count": 684,
   "metadata": {},
   "outputs": [],
   "source": [
    "class Continuous_Source(object):\n",
    "    def __init__(self, _x_upper, _x_lower, _y_upper, _y_lower, _strength):\n",
    "        self.x_upper = _x_upper\n",
    "        self.x_lower = _x_lower\n",
    "        self.y_upper = _y_upper\n",
    "        self.y_lower = _y_lower\n",
    "        self.strength = _strength"
   ]
  },
  {
   "cell_type": "code",
   "execution_count": 685,
   "metadata": {},
   "outputs": [],
   "source": [
    "class Grid(object):\n",
    "    def __init__(self, _Lx=1, _Ly=1, _point_sources=[], _continuous_sources=[],\n",
    "                 _left_BC=0, _right_BC=1, _type_one_BCs_on=True, _num_nodes_per_side = 4):\n",
    "        self.num_nodes_per_side = _num_nodes_per_side\n",
    "        self.num_elements = ((_num_nodes_per_side-1)**2)*2\n",
    "        self.num_nodes = _num_nodes_per_side*_num_nodes_per_side\n",
    "        self.elements = list(range(1,self.num_elements+1))\n",
    "        self.nodes = list(range(1,self.num_nodes+1))\n",
    "        # we make the node values list one longer than it needs to be to not \n",
    "        # have to deal with 1 indexing instead of 0 indexing\n",
    "        self.node_values = [0] * (self.num_nodes+1)\n",
    "        self.left_edge_nodes = []\n",
    "        self.right_edge_nodes = []\n",
    "        if _type_one_BCs_on:\n",
    "            for i in range(0,_num_nodes_per_side):\n",
    "                self.left_edge_nodes.append(i*_num_nodes_per_side+1)\n",
    "                self.right_edge_nodes.append((i+1)*_num_nodes_per_side)\n",
    "        self.point_sources = _point_sources\n",
    "        self.continuous_sources = _continuous_sources\n",
    "        self.Lx = _Lx\n",
    "        self.Ly = _Ly\n",
    "        self.left_BC = _left_BC\n",
    "        self.right_BC = _right_BC\n",
    "        self.elemental_area = (_Lx*_Ly)/len(self.elements)\n",
    "\n",
    "    # We make sure to return these nodes sorted in counter clockwise order\n",
    "    def nodes_associated_with_element(self, element):\n",
    "        square = math.floor((float(element)+1.0)/2.0)\n",
    "        row = math.floor((square-.5)/(self.num_nodes_per_side-1))\n",
    "        is_upper_triangle = element%2\n",
    "        lower_left_node = int(square + row)\n",
    "        upper_right_node = lower_left_node + self.num_nodes_per_side + 1\n",
    "        third_node = lower_left_node + 1\n",
    "        if not is_upper_triangle:\n",
    "            return [lower_left_node,third_node,upper_right_node]\n",
    "        else:\n",
    "            third_node = upper_right_node - 1\n",
    "            return [lower_left_node,upper_right_node,third_node]\n",
    "    \n",
    "    def row(self, node):\n",
    "        return (math.floor((node-1)/self.num_nodes_per_side))\n",
    "    \n",
    "    def column(self, node):\n",
    "        return ((node-1)%self.num_nodes_per_side)\n",
    "\n",
    "    def node_y(self, node):\n",
    "        return self.Ly * self.row(node)/(self.num_nodes_per_side-1)\n",
    "    \n",
    "    def node_x(self, node):\n",
    "        return self.Ly * self.column(node)/(self.num_nodes_per_side-1)\n",
    "\n",
    "    def empty_matrix(self):\n",
    "        matrix = []\n",
    "        for _ in self.nodes:\n",
    "            matrix.append([0]*self.num_nodes)\n",
    "        return matrix\n",
    "\n",
    "    # TODO calculate this\n",
    "    def percent_overlap(continuous_source, element):\n",
    "        return 1\n",
    "    \n",
    "    # need to adjust this for how much of the element is being overlapped by the source\n",
    "    # For now we assume the continuous source is a constant\n",
    "    # This can go in the vector not the matrix\n",
    "    def calculate_continuous_source_term(self, element, continuous_source):\n",
    "        return self.elemental_area * continuous_source.strength * self.percent_overlap(element, continuous_source)\n",
    "    \n",
    "    def assemble_right_hand_side(self):\n",
    "        vector = [0] * len(self.nodes)\n",
    "        # add type 1 BCs\n",
    "        for node in self.left_edge_nodes:\n",
    "            vector[node-1] = self.left_BC\n",
    "        for node in self.right_edge_nodes:\n",
    "            vector[node-1] = self.right_BC\n",
    "        # add point sources\n",
    "        for point_source in self.point_sources:\n",
    "            vector[point_source.node-1] = point_source.value \n",
    "        # for element in self.elements:\n",
    "        #     for continuous_source in self.continuous_sources:\n",
    "        #         vector[element] += self.calculate_continuous_source_term(element, continuous_source)\n",
    "        return vector\n",
    "    \n",
    "    # # TODO for each case determine to use dx or dy for T\n",
    "    # def calculate_diffusion_term(self, node_1, node_2, element):\n",
    "    #     NUM_CELLS_PER_ROW = self.num_nodes_per_side-1\n",
    "    #     dx = self.Lx/NUM_CELLS_PER_ROW\n",
    "    #     if node_1 == node_2:\n",
    "    #         return (dx**2.0)/(2.0*self.elemental_area**2.0)\n",
    "    #     else:\n",
    "    #         if self.nodes_are_seperated_by_long_edge(node_1, node_2):\n",
    "    #             return 0\n",
    "    #         else:\n",
    "    #             return -(dx**2.0)/(4.0*self.elemental_area**2.0)\n",
    "            \n",
    "    def relative_element_node(self, element_nodes, index):\n",
    "        return element_nodes[index%3]\n",
    "    \n",
    "    # TODO ADD variable T\n",
    "    def calculate_diffusion_term(self, i, j, element_nodes):\n",
    "        term_1 = (self.node_y(element_nodes[(i+1)%3]) - self.node_y(element_nodes[(i+2)%3]))/(2*self.elemental_area)\n",
    "        term_2 = (self.node_y(element_nodes[(j+1)%3]) - self.node_y(element_nodes[(j+2)%3]))/(2*self.elemental_area)\n",
    "        term_3 = (self.node_x(element_nodes[(i+2)%3]) - self.node_x(element_nodes[(i+1)%3]))/(2*self.elemental_area)\n",
    "        term_4 = (self.node_x(element_nodes[(j+2)%3]) - self.node_x(element_nodes[(j+1)%3]))/(2*self.elemental_area)\n",
    "        return term_1*term_2+term_3*term_4\n",
    "\n",
    "    def assemble_matrix(self):\n",
    "        matrix = self.empty_matrix()\n",
    "        # do elemental integrals\n",
    "        for element in self.elements:\n",
    "            element_nodes = self.nodes_associated_with_element(element)\n",
    "            for i in range(0,len(element_nodes)):\n",
    "                for j in range(0,len(element_nodes)):\n",
    "                    contribution = self.calculate_diffusion_term(i, j, element_nodes)\n",
    "                    matrix[element_nodes[i]-1][element_nodes[j]-1] += contribution\n",
    "            # for node_1 in element_nodes:\n",
    "            #     for node_2 in element_nodes:\n",
    "            #         contribution = self.calculate_diffusion_term(node_1, node_2, element)\n",
    "            #         matrix[node_1-1][node_2-1] += contribution\n",
    "        # add type one BCs\n",
    "        for node in self.left_edge_nodes:\n",
    "            matrix[node-1] = [0]*len(self.nodes)\n",
    "            matrix[node-1][node-1] = 1\n",
    "        for node in self.right_edge_nodes:\n",
    "            matrix[node-1] = [0]*len(self.nodes)\n",
    "            matrix[node-1][node-1] = 1\n",
    "        # add type 2 BCs\n",
    "\n",
    "        # add point source/sink terms\n",
    "        for point_source in self.point_sources:\n",
    "            matrix[point_source.node-1] = [0]*len(self.nodes)\n",
    "            matrix[point_source.node-1][point_source.node-1] = 1\n",
    "        return matrix\n",
    "\n",
    "    def solve_system(self):\n",
    "        A = self.assemble_matrix()\n",
    "        b = self.assemble_right_hand_side()\n",
    "        self.node_values = [0] + list(np.linalg.solve(A,b))\n",
    "    \n",
    "    def print_system(self):\n",
    "        printing_grid = np.zeros((self.num_nodes_per_side,self.num_nodes_per_side))\n",
    "        for node in self.nodes:\n",
    "            node_value = self.node_values[node]\n",
    "            y = self.num_nodes_per_side - 1 - math.floor((node-1)/self.num_nodes_per_side)\n",
    "            x = (node-1) % self.num_nodes_per_side\n",
    "            printing_grid[y][x] = node_value\n",
    "        ax = sns.heatmap(printing_grid, linewidth=0.5,cmap=\"YlGnBu\",xticklabels=[],yticklabels=[])\n",
    "        plt.title(\"Graph of node values\")\n",
    "        # plt.set(xticklabels=[],yticklabels=[])\n",
    "        plt.show()\n",
    "\n",
    "        \n"
   ]
  },
  {
   "cell_type": "code",
   "execution_count": 686,
   "metadata": {},
   "outputs": [],
   "source": [
    "grid = Grid()"
   ]
  },
  {
   "cell_type": "code",
   "execution_count": 687,
   "metadata": {},
   "outputs": [],
   "source": [
    "# Nodes associated with element test\n",
    "assert grid.nodes_associated_with_element(1) == [1,6,5]\n",
    "assert grid.nodes_associated_with_element(2) == [1,2,6]\n",
    "assert grid.nodes_associated_with_element(7) == [5,10,9]\n",
    "assert grid.nodes_associated_with_element(8) == [5,6,10]"
   ]
  },
  {
   "cell_type": "code",
   "execution_count": 688,
   "metadata": {},
   "outputs": [],
   "source": [
    "# Node position calculations test\n",
    "assert grid.node_y(1) == 0\n",
    "assert grid.node_x(1) == 0\n",
    "assert grid.node_y(4) == 0\n",
    "assert grid.node_x(6) == 1.0/3.0\n",
    "assert grid.node_y(12) == 2.0/3.0\n",
    "assert grid.node_y(16) == 1\n",
    "assert grid.node_x(16) == 1"
   ]
  },
  {
   "cell_type": "code",
   "execution_count": 689,
   "metadata": {},
   "outputs": [
    {
     "name": "stdout",
     "output_type": "stream",
     "text": [
      "[[1, 0, 0, 0, 0, 0, 0, 0, 0, 0, 0, 0, 0, 0, 0, 0], [-9.0, 36.0, -9.0, 0, 0, -18.0, 0.0, 0, 0, 0, 0, 0, 0, 0, 0, 0], [0, -9.0, 36.0, -9.0, 0, 0, -18.000000000000004, 0.0, 0, 0, 0, 0, 0, 0, 0, 0], [0, 0, 0, 1, 0, 0, 0, 0, 0, 0, 0, 0, 0, 0, 0, 0], [0, 0, 0, 0, 1, 0, 0, 0, 0, 0, 0, 0, 0, 0, 0, 0], [0.0, -18.0, 0, 0, -18.0, 72.0, -18.0, 0, 0, -18.0, 0.0, 0, 0, 0, 0, 0], [0, 0.0, -18.000000000000004, 0, 0, -18.0, 72.0, -18.0, 0, 0, -18.000000000000004, 0.0, 0, 0, 0, 0], [0, 0, 0, 0, 0, 0, 0, 1, 0, 0, 0, 0, 0, 0, 0, 0], [0, 0, 0, 0, 0, 0, 0, 0, 1, 0, 0, 0, 0, 0, 0, 0], [0, 0, 0, 0, 0.0, -18.0, 0, 0, -18.000000000000004, 72.0, -18.000000000000004, 0, 0, -18.0, 0.0, 0], [0, 0, 0, 0, 0, 0.0, -18.000000000000004, 0, 0, -18.000000000000004, 72.0, -18.000000000000004, 0, 0, -18.000000000000004, 0.0], [0, 0, 0, 0, 0, 0, 0, 0, 0, 0, 0, 1, 0, 0, 0, 0], [0, 0, 0, 0, 0, 0, 0, 0, 0, 0, 0, 0, 1, 0, 0, 0], [0, 0, 0, 0, 0, 0, 0, 0, 0.0, -18.0, 0, 0, -9.000000000000004, 36.00000000000001, -9.000000000000004, 0], [0, 0, 0, 0, 0, 0, 0, 0, 0, 0.0, -18.000000000000004, 0, 0, -9.000000000000004, 36.000000000000014, -9.000000000000004], [0, 0, 0, 0, 0, 0, 0, 0, 0, 0, 0, 0, 0, 0, 0, 1]]\n"
     ]
    }
   ],
   "source": [
    "# print(nodes)\n",
    "matrix = grid.assemble_matrix()\n",
    "print(matrix)"
   ]
  },
  {
   "cell_type": "code",
   "execution_count": 690,
   "metadata": {},
   "outputs": [
    {
     "data": {
      "image/png": "[encoded data removed]",
      "text/plain": [
       "<Figure size 432x288 with 2 Axes>"
      ]
     },
     "metadata": {
      "needs_background": "light"
     },
     "output_type": "display_data"
    }
   ],
   "source": [
    "# Only type 1 bcs on\n",
    "grid = Grid()\n",
    "grid.solve_system()\n",
    "grid.print_system()"
   ]
  },
  {
   "cell_type": "code",
   "execution_count": 691,
   "metadata": {},
   "outputs": [
    {
     "data": {
      "image/png": "[encoded data removed]",
      "text/plain": [
       "<Figure size 432x288 with 2 Axes>"
      ]
     },
     "metadata": {
      "needs_background": "light"
     },
     "output_type": "display_data"
    }
   ],
   "source": [
    "# Only \n",
    "point_sources =[ \n",
    "    Point_Source(_node=6,_value=1),\n",
    "    Point_Source(_node=11,_value=-1)\n",
    "]\n",
    "grid = Grid(_point_sources=point_sources, _right_BC=0, _type_one_BCs_on = False)\n",
    "grid.solve_system()\n",
    "grid.print_system()"
   ]
  },
  {
   "cell_type": "code",
   "execution_count": 692,
   "metadata": {},
   "outputs": [],
   "source": [
    "# # Only \n",
    "# point_sources =[ \n",
    "#     Point_Source(_node=7,_value=1),\n",
    "#     # Point_Source(_node=11,_value=1)\n",
    "# ]\n",
    "# grid = Grid(_point_sources=point_sources, _right_BC=1, _type_one_BCs_on = True)\n",
    "\n",
    "# grid.solve_system()\n",
    "# grid.print_system()"
   ]
  },
  {
   "cell_type": "code",
   "execution_count": 693,
   "metadata": {},
   "outputs": [
    {
     "data": {
      "image/png": "[encoded data removed]",
      "text/plain": [
       "<Figure size 432x288 with 2 Axes>"
      ]
     },
     "metadata": {
      "needs_background": "light"
     },
     "output_type": "display_data"
    }
   ],
   "source": [
    "# Only type 1 bcs only, larger grid\n",
    "grid = Grid(_num_nodes_per_side=10)\n",
    "grid.solve_system()\n",
    "grid.print_system()"
   ]
  },
  {
   "cell_type": "code",
   "execution_count": 694,
   "metadata": {},
   "outputs": [
    {
     "data": {
      "image/png": "[encoded data removed]",
      "text/plain": [
       "<Figure size 432x288 with 2 Axes>"
      ]
     },
     "metadata": {
      "needs_background": "light"
     },
     "output_type": "display_data"
    }
   ],
   "source": [
    "point_sources =[ \n",
    "    Point_Source(_node=56,_value=1),\n",
    "    # Point_Source(_node=11,_value=1)\n",
    "]\n",
    "grid = Grid(_point_sources=point_sources, _right_BC=0, _type_one_BCs_on = True, _num_nodes_per_side=10)\n",
    "\n",
    "grid.solve_system()\n",
    "grid.print_system()"
   ]
  },
  {
   "cell_type": "code",
   "execution_count": 695,
   "metadata": {},
   "outputs": [
    {
     "data": {
      "image/png": "[encoded data removed]",
      "text/plain": [
       "<Figure size 432x288 with 2 Axes>"
      ]
     },
     "metadata": {
      "needs_background": "light"
     },
     "output_type": "display_data"
    }
   ],
   "source": [
    "point_sources =[ \n",
    "    Point_Source(_node=56,_value=1),\n",
    "    Point_Source(_node=45,_value=1)\n",
    "]\n",
    "grid = Grid(_point_sources=point_sources, _type_one_BCs_on = False, _num_nodes_per_side=10)\n",
    "\n",
    "grid.solve_system()\n",
    "grid.print_system()"
   ]
  },
  {
   "cell_type": "code",
   "execution_count": null,
   "metadata": {},
   "outputs": [],
   "source": []
  }
 ],
 "metadata": {
  "kernelspec": {
   "display_name": "Python 3",
   "language": "python",
   "name": "python3"
  },
  "language_info": {
   "codemirror_mode": {
    "name": "ipython",
    "version": 3
   },
   "file_extension": ".py",
   "mimetype": "text/x-python",
   "name": "python",
   "nbconvert_exporter": "python",
   "pygments_lexer": "ipython3",
   "version": "3.9.7 (default, Sep  3 2021, 12:45:31) \n[Clang 12.0.0 (clang-1200.0.32.29)]"
  },
  "orig_nbformat": 4,
  "vscode": {
   "interpreter": {
    "hash": "aee8b7b246df8f9039afb4144a1f6fd8d2ca17a180786b69acc140d282b71a49"
   }
  }
 },
 "nbformat": 4,
 "nbformat_minor": 2
}
