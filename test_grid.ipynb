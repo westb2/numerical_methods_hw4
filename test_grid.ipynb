{
 "cells": [
  {
   "cell_type": "code",
   "execution_count": 6,
   "metadata": {},
   "outputs": [],
   "source": [
    "import math"
   ]
  },
  {
   "cell_type": "code",
   "execution_count": 34,
   "metadata": {},
   "outputs": [],
   "source": [
    "class Grid(object):\n",
    "    def __init__(self):\n",
    "        self.elements = range(1,19)\n",
    "        self.nodes = range(1,17)\n",
    "\n",
    "    def nodes_associated_with_element(self, element):\n",
    "        square = math.floor((float(element)+1.0)/2.0)\n",
    "        row = math.floor((square-.5)/3.0)\n",
    "        is_upper_triangle = element%2\n",
    "        lower_left_node = int(square + row)\n",
    "        upper_right_node = lower_left_node + 5\n",
    "        third_node = lower_left_node + 1\n",
    "        if is_upper_triangle:\n",
    "            third_node = upper_right_node - 1\n",
    "        return sorted([lower_left_node,third_node,upper_right_node])\n",
    "        \n"
   ]
  },
  {
   "cell_type": "code",
   "execution_count": 35,
   "metadata": {},
   "outputs": [],
   "source": [
    "grid = Grid()"
   ]
  },
  {
   "cell_type": "code",
   "execution_count": 40,
   "metadata": {},
   "outputs": [],
   "source": [
    "# Nodes associated with element test\n",
    "assert grid.nodes_associated_with_element(1) == [1,5,6]\n",
    "assert grid.nodes_associated_with_element(2) == [1,2,6]\n",
    "assert grid.nodes_associated_with_element(7) == [5,9,10]\n",
    "assert grid.nodes_associated_with_element(8) == [5,6,10]"
   ]
  },
  {
   "cell_type": "code",
   "execution_count": null,
   "metadata": {},
   "outputs": [],
   "source": []
  }
 ],
 "metadata": {
  "kernelspec": {
   "display_name": "Python 3",
   "language": "python",
   "name": "python3"
  },
  "language_info": {
   "codemirror_mode": {
    "name": "ipython",
    "version": 3
   },
   "file_extension": ".py",
   "mimetype": "text/x-python",
   "name": "python",
   "nbconvert_exporter": "python",
   "pygments_lexer": "ipython3",
   "version": "3.9.7 (default, Sep  3 2021, 12:45:31) \n[Clang 12.0.0 (clang-1200.0.32.29)]"
  },
  "orig_nbformat": 4,
  "vscode": {
   "interpreter": {
    "hash": "aee8b7b246df8f9039afb4144a1f6fd8d2ca17a180786b69acc140d282b71a49"
   }
  }
 },
 "nbformat": 4,
 "nbformat_minor": 2
}
