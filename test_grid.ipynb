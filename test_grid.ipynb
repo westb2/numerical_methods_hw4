{
 "cells": [
  {
   "cell_type": "code",
   "execution_count": 1458,
   "metadata": {},
   "outputs": [],
   "source": [
    "import math\n",
    "import numpy as np\n",
    "import seaborn as sns\n",
    "import matplotlib.pylab as plt"
   ]
  },
  {
   "cell_type": "code",
   "execution_count": 1459,
   "metadata": {},
   "outputs": [],
   "source": [
    "# notes: Constant BCs and Sources go on RHS. Diffusion terms go in matrix"
   ]
  },
  {
   "cell_type": "code",
   "execution_count": 1460,
   "metadata": {},
   "outputs": [],
   "source": [
    "class Point_Source(object):\n",
    "    def __init__(self,node,value):\n",
    "        self.node =node\n",
    "        self.value =value"
   ]
  },
  {
   "cell_type": "code",
   "execution_count": 1461,
   "metadata": {},
   "outputs": [],
   "source": [
    "class Continuous_Source(object):\n",
    "    def __init__(self,x_upper, x_lower, y_upper, y_lower, strength):\n",
    "        self.x_upper = x_upper\n",
    "        self.x_lower = x_lower\n",
    "        self.y_upper = y_upper\n",
    "        self.y_lower = y_lower\n",
    "        self.strength = strength"
   ]
  },
  {
   "cell_type": "code",
   "execution_count": 1462,
   "metadata": {},
   "outputs": [],
   "source": [
    "class Transmissivity(object):\n",
    "    def __init__(self, Tx=(lambda x, y: 1.0), Ty=(lambda x, y: 1.0)):\n",
    "        self.Tx = Tx\n",
    "        self.Ty = Ty\n",
    "        "
   ]
  },
  {
   "cell_type": "code",
   "execution_count": 1463,
   "metadata": {},
   "outputs": [],
   "source": [
    "class Grid(object):\n",
    "    def __init__(self, Lx=1, Ly=1, T=Transmissivity(), point_sources=[], continuous_sources=[], top_BC=0, bottom_BC=0,\n",
    "                 left_BC=(lambda y: 0), right_BC=(lambda y: 1), left_BC_on=True, right_BC_on=True, type_two_BCs_on=True, num_nodes_per_side = 4):\n",
    "        self.num_nodes_per_side = num_nodes_per_side\n",
    "        self.top_BC = top_BC\n",
    "        self.bottom_BC = bottom_BC\n",
    "        self.num_elements = ((num_nodes_per_side-1)**2)*2\n",
    "        self.num_nodes = num_nodes_per_side*num_nodes_per_side\n",
    "        self.elements = list(range(1,self.num_elements+1))\n",
    "        self.nodes = list(range(1,self.num_nodes+1))\n",
    "        self.T = T\n",
    "        # we make the node values list one longer than it needs to be to not \n",
    "        # have to deal with 1 indexing instead of 0 indexing\n",
    "        self.node_values = [0] * (self.num_nodes+1)\n",
    "        self.top_edge_nodes = []\n",
    "        self.bottom_edge_nodes = []\n",
    "        self.right_edge_nodes = []\n",
    "        self.left_edge_nodes = []\n",
    "        self.right_edge_nodes = []\n",
    "        if left_BC_on:\n",
    "            for i in range(0,num_nodes_per_side):\n",
    "                self.left_edge_nodes.append(i*num_nodes_per_side+1)\n",
    "        if right_BC_on:\n",
    "            for i in range(0,num_nodes_per_side):\n",
    "                self.right_edge_nodes.append((i+1)*num_nodes_per_side)\n",
    "        if type_two_BCs_on:\n",
    "            for i in range(0,num_nodes_per_side):\n",
    "                self.top_edge_nodes.append(self.num_nodes-i)\n",
    "                self.bottom_edge_nodes.append(i+1)\n",
    "        self.point_sources = point_sources\n",
    "        self.continuous_sources = continuous_sources\n",
    "        self.Lx = Lx\n",
    "        self.Ly = Ly\n",
    "        self.left_BC = left_BC\n",
    "        self.right_BC = right_BC\n",
    "        self.elemental_area = (Lx*Ly)/len(self.elements)\n",
    "\n",
    "    # We make sure to return these nodes sorted in counter clockwise order\n",
    "    def nodes_associated_with_element(self, element):\n",
    "        square = math.floor((float(element)+1.0)/2.0)\n",
    "        row = math.floor((square-.5)/(self.num_nodes_per_side-1))\n",
    "        is_upper_triangle = element%2\n",
    "        lower_left_node = int(square + row)\n",
    "        upper_right_node = lower_left_node + self.num_nodes_per_side + 1\n",
    "        third_node = lower_left_node + 1\n",
    "        if not is_upper_triangle:\n",
    "            return [lower_left_node,third_node,upper_right_node]\n",
    "        else:\n",
    "            third_node = upper_right_node - 1\n",
    "            return [lower_left_node,upper_right_node,third_node]\n",
    "    \n",
    "    def row(self, node):\n",
    "        return (math.floor((node-1)/self.num_nodes_per_side))\n",
    "    \n",
    "    def column(self, node):\n",
    "        return ((node-1)%self.num_nodes_per_side)\n",
    "\n",
    "    def node_y(self, node):\n",
    "        return self.Ly * self.row(node)/(self.num_nodes_per_side-1)\n",
    "    \n",
    "    def node_x(self, node):\n",
    "        return self.Ly * self.column(node)/(self.num_nodes_per_side-1)\n",
    "\n",
    "    def empty_matrix(self):\n",
    "        matrix = []\n",
    "        for _ in self.nodes:\n",
    "            matrix.append([0]*self.num_nodes)\n",
    "        return matrix\n",
    "\n",
    "    # TODO calculate this\n",
    "    def percent_overlap(continuous_source, element):\n",
    "        return 1\n",
    "    \n",
    "    # need to adjust this for how much of the element is being overlapped by the source\n",
    "    # For now we assume the continuous source is a constant\n",
    "    # This can go in the vector not the matrix\n",
    "    def calculate_continuous_source_term(self, element, continuous_source):\n",
    "        return self.elemental_area * continuous_source.strength * self.percent_overlap(element, continuous_source)\n",
    "    \n",
    "    def assemble_right_hand_side(self):\n",
    "        vector = [0] * len(self.nodes)\n",
    "        for node in self.nodes:\n",
    "            for continuous_source in self.continuous_sources:\n",
    "                vector[node-1] = vector[node-1] - continuous_source.strength\n",
    "        # add type 2 BCs\n",
    "        # # TODO make this variable along edge\n",
    "        # for node in self.top_edge_nodes:\n",
    "        #     # For nodes that only have one element below we have to adjust\n",
    "        #     if self.column(node) == 0 or self.column(node) == self.num_nodes_per_side - 1:\n",
    "        #         vector[node-1] = vector[node-1] + 0.5*self.Lx/(self.num_nodes_per_side-1)*self.top_BC\n",
    "        #     else:\n",
    "        #         vector[node-1] = vector[node-1] + self.Lx/(self.num_nodes_per_side-1)*self.top_BC\n",
    "        # for node in self.bottom_edge_nodes:\n",
    "        #     # For nodes that only have one element below we have to adjust\n",
    "        #     if self.column(node) == 0 or self.column(node) == self.num_nodes_per_side - 1:\n",
    "        #         vector[node-1] = vector[node-1] + 0.5*self.Lx/(self.num_nodes_per_side-1)*self.bottom_BC\n",
    "        #     else:\n",
    "        #         vector[node-1] = vector[node-1] + self.Lx/(self.num_nodes_per_side-1)*self.bottom_BC\n",
    "        # add type 1 BCs\n",
    "        for node in self.left_edge_nodes:\n",
    "            vector[node-1] = self.left_BC(self.node_y(node))\n",
    "        for node in self.right_edge_nodes:\n",
    "            vector[node-1] = self.right_BC(self.node_y(node))\n",
    "        # add point sources\n",
    "        for point_source in self.point_sources:\n",
    "            vector[point_source.node-1] = point_source.value\n",
    "        \n",
    "                # for node_2 in self.nodes_associated_with_element(element):\n",
    "                #     for continuous_source in self.continuous_sources:\n",
    "                #         if node_1 == node_2:\n",
    "                #             vector[node_1-1] = vector[node_1-1] - continuous_source.strength*self.elemental_area/12\n",
    "                #         else:\n",
    "                #             vector[node_1-1] = vector[node_1-1] - continuous_source.strength*self.elemental_area/6\n",
    "                # # vector[element] += self.calculate_continuous_source_term(element, continuous_source)\n",
    "        return vector\n",
    "    \n",
    "    # TODO ADD variable T\n",
    "    def calculate_diffusion_term(self, i, j, element_nodes,):\n",
    "        x = self.node_x(element_nodes[i%3])\n",
    "        y = self.node_y(element_nodes[i%3])\n",
    "        term_1 = (self.node_y(element_nodes[(i+1)%3]) - self.node_y(element_nodes[(i+2)%3]))/(2*self.elemental_area)\n",
    "        term_2 = (self.node_y(element_nodes[(j+1)%3]) - self.node_y(element_nodes[(j+2)%3]))/(2*self.elemental_area)\n",
    "        term_3 = (self.node_x(element_nodes[(i+2)%3]) - self.node_x(element_nodes[(i+1)%3]))/(2*self.elemental_area)\n",
    "        term_4 = (self.node_x(element_nodes[(j+2)%3]) - self.node_x(element_nodes[(j+1)%3]))/(2*self.elemental_area)\n",
    "        return self.T.Tx(x,y)*term_1*term_2 + self.T.Ty(x,y)*term_3*term_4\n",
    "\n",
    "    def assemble_matrix(self):\n",
    "        matrix = self.empty_matrix()\n",
    "        # do elemental integrals\n",
    "        for element in self.elements:\n",
    "            element_nodes = self.nodes_associated_with_element(element)\n",
    "            for i in range(0,len(element_nodes)):\n",
    "                for j in range(0,len(element_nodes)):\n",
    "                    contribution = self.calculate_diffusion_term(i, j, element_nodes)\n",
    "                    matrix[element_nodes[i]-1][element_nodes[j]-1] += contribution\n",
    "        # add type one BCs\n",
    "        for node in self.left_edge_nodes:\n",
    "            matrix[node-1] = [0]*len(self.nodes)\n",
    "            matrix[node-1][node-1] = 1\n",
    "        for node in self.right_edge_nodes:\n",
    "            matrix[node-1] = [0]*len(self.nodes)\n",
    "            matrix[node-1][node-1] = 1\n",
    "        # add type 2 BCs\n",
    "\n",
    "        # add point source/sink terms\n",
    "        for point_source in self.point_sources:\n",
    "            matrix[point_source.node-1] = [0]*len(self.nodes)\n",
    "            matrix[point_source.node-1][point_source.node-1] = 1\n",
    "        return matrix\n",
    "\n",
    "    def solve_system(self):\n",
    "        A = self.assemble_matrix()\n",
    "        b = self.assemble_right_hand_side()\n",
    "        self.node_values = [0] + list(np.linalg.solve(A,b))\n",
    "    \n",
    "    def print_system(self, title=\"Graph of node values\"):\n",
    "        printing_grid = np.zeros((self.num_nodes_per_side,self.num_nodes_per_side))\n",
    "        for node in self.nodes:\n",
    "            node_value = self.node_values[node]\n",
    "            y = self.num_nodes_per_side - 1 - math.floor((node-1)/self.num_nodes_per_side)\n",
    "            x = (node-1) % self.num_nodes_per_side\n",
    "            printing_grid[y][x] = node_value\n",
    "        ax = sns.heatmap(printing_grid, linewidth=0.5,cmap=\"YlGnBu\",xticklabels=[],yticklabels=[])\n",
    "        plt.title(title)\n",
    "        # plt.set(xticklabels=[],yticklabels=[])\n",
    "        plt.show()\n",
    "\n",
    "        \n"
   ]
  },
  {
   "cell_type": "code",
   "execution_count": 1464,
   "metadata": {},
   "outputs": [],
   "source": [
    "grid = Grid()"
   ]
  },
  {
   "cell_type": "code",
   "execution_count": 1465,
   "metadata": {},
   "outputs": [],
   "source": [
    "# Nodes associated with element test\n",
    "assert grid.nodes_associated_with_element(1) == [1,6,5]\n",
    "assert grid.nodes_associated_with_element(2) == [1,2,6]\n",
    "assert grid.nodes_associated_with_element(7) == [5,10,9]\n",
    "assert grid.nodes_associated_with_element(8) == [5,6,10]"
   ]
  },
  {
   "cell_type": "code",
   "execution_count": 1466,
   "metadata": {},
   "outputs": [],
   "source": [
    "# Node position calculations test\n",
    "assert grid.node_y(1) == 0\n",
    "assert grid.node_x(1) == 0\n",
    "assert grid.node_y(4) == 0\n",
    "assert grid.node_x(6) == 1.0/3.0\n",
    "assert grid.node_y(12) == 2.0/3.0\n",
    "assert grid.node_y(16) == 1\n",
    "assert grid.node_x(16) == 1"
   ]
  },
  {
   "cell_type": "code",
   "execution_count": 1467,
   "metadata": {},
   "outputs": [],
   "source": [
    "# Test I got the boundary condition nodes correct\n",
    "assert grid.right_edge_nodes == [4,8,12,16]\n",
    "assert grid.left_edge_nodes == [1,5,9,13]"
   ]
  },
  {
   "cell_type": "code",
   "execution_count": 1468,
   "metadata": {},
   "outputs": [
    {
     "name": "stdout",
     "output_type": "stream",
     "text": [
      "[[1, 0, 0, 0, 0, 0, 0, 0, 0, 0, 0, 0, 0, 0, 0, 0], [-9.0, 36.0, -9.0, 0, 0, -18.0, 0.0, 0, 0, 0, 0, 0, 0, 0, 0, 0], [0, -9.0, 36.0, -9.0, 0, 0, -18.000000000000004, 0.0, 0, 0, 0, 0, 0, 0, 0, 0], [0, 0, 0, 1, 0, 0, 0, 0, 0, 0, 0, 0, 0, 0, 0, 0], [0, 0, 0, 0, 1, 0, 0, 0, 0, 0, 0, 0, 0, 0, 0, 0], [0.0, -18.0, 0, 0, -18.0, 72.0, -18.0, 0, 0, -18.0, 0.0, 0, 0, 0, 0, 0], [0, 0.0, -18.000000000000004, 0, 0, -18.0, 72.0, -18.0, 0, 0, -18.000000000000004, 0.0, 0, 0, 0, 0], [0, 0, 0, 0, 0, 0, 0, 1, 0, 0, 0, 0, 0, 0, 0, 0], [0, 0, 0, 0, 0, 0, 0, 0, 1, 0, 0, 0, 0, 0, 0, 0], [0, 0, 0, 0, 0.0, -18.0, 0, 0, -18.000000000000004, 72.0, -18.000000000000004, 0, 0, -18.0, 0.0, 0], [0, 0, 0, 0, 0, 0.0, -18.000000000000004, 0, 0, -18.000000000000004, 72.0, -18.000000000000004, 0, 0, -18.000000000000004, 0.0], [0, 0, 0, 0, 0, 0, 0, 0, 0, 0, 0, 1, 0, 0, 0, 0], [0, 0, 0, 0, 0, 0, 0, 0, 0, 0, 0, 0, 1, 0, 0, 0], [0, 0, 0, 0, 0, 0, 0, 0, 0.0, -18.0, 0, 0, -9.000000000000004, 36.00000000000001, -9.000000000000004, 0], [0, 0, 0, 0, 0, 0, 0, 0, 0, 0.0, -18.000000000000004, 0, 0, -9.000000000000004, 36.000000000000014, -9.000000000000004], [0, 0, 0, 0, 0, 0, 0, 0, 0, 0, 0, 0, 0, 0, 0, 1]]\n"
     ]
    }
   ],
   "source": [
    "matrix = grid.assemble_matrix()\n",
    "print(matrix)"
   ]
  },
  {
   "cell_type": "code",
   "execution_count": 1469,
   "metadata": {},
   "outputs": [
    {
     "data": {
      "image/png": "[encoded data removed]",
      "text/plain": [
       "<Figure size 432x288 with 2 Axes>"
      ]
     },
     "metadata": {
      "needs_background": "light"
     },
     "output_type": "display_data"
    }
   ],
   "source": [
    "# Only type 1 bcs on\n",
    "grid = Grid()\n",
    "grid.solve_system()\n",
    "grid.print_system(title=\"Boundary conditions of h1=0 and h2=1\")"
   ]
  },
  {
   "cell_type": "code",
   "execution_count": 1470,
   "metadata": {},
   "outputs": [
    {
     "data": {
      "image/png": "[encoded data removed]",
      "text/plain": [
       "<Figure size 432x288 with 2 Axes>"
      ]
     },
     "metadata": {
      "needs_background": "light"
     },
     "output_type": "display_data"
    }
   ],
   "source": [
    "# Only \n",
    "point_sources =[ \n",
    "    Point_Source(node=6,value=1),\n",
    "    Point_Source(node=11,value=-1)\n",
    "]\n",
    "def right_BC(y):\n",
    "    return 0\n",
    "\n",
    "grid = Grid(point_sources=point_sources,right_BC=right_BC, left_BC_on = False, right_BC_on=False)\n",
    "grid.solve_system()\n",
    "grid.print_system(title=\"Opposing source and sink as requested\")"
   ]
  },
  {
   "cell_type": "code",
   "execution_count": 1471,
   "metadata": {},
   "outputs": [],
   "source": [
    "# # Only \n",
    "# point_sources =[ \n",
    "#     Point_Source(node=7,value=1),\n",
    "#     # Point_Source(node=11,value=1)\n",
    "# ]\n",
    "# grid = Grid(_point_sources=point_sources, _right_BC=1,type_one_BCs_on = True)\n",
    "\n",
    "# grid.solve_system()\n",
    "# grid.print_system()"
   ]
  },
  {
   "cell_type": "code",
   "execution_count": 1472,
   "metadata": {},
   "outputs": [
    {
     "data": {
      "image/png": "[encoded data removed]",
      "text/plain": [
       "<Figure size 432x288 with 2 Axes>"
      ]
     },
     "metadata": {
      "needs_background": "light"
     },
     "output_type": "display_data"
    }
   ],
   "source": [
    "# Only type 1 bcs only, larger grid\n",
    "grid = Grid(num_nodes_per_side=10)\n",
    "grid.solve_system()\n",
    "grid.print_system(title=\"Larger grid with h1=0 and h2=1\")"
   ]
  },
  {
   "cell_type": "code",
   "execution_count": 1473,
   "metadata": {},
   "outputs": [
    {
     "data": {
      "image/png": "[encoded data removed]",
      "text/plain": [
       "<Figure size 432x288 with 2 Axes>"
      ]
     },
     "metadata": {
      "needs_background": "light"
     },
     "output_type": "display_data"
    }
   ],
   "source": [
    "point_sources =[ \n",
    "    Point_Source(node=56, value=1),\n",
    "    # Point_Source(node=11,value=1)\n",
    "]\n",
    "def right_BC(y):\n",
    "    return 0\n",
    "\n",
    "grid = Grid(point_sources=point_sources, right_BC=right_BC, num_nodes_per_side=10)\n",
    "\n",
    "grid.solve_system()\n",
    "grid.print_system(title=\"Single source on larger grid with h1=0 and h2=0\")"
   ]
  },
  {
   "cell_type": "code",
   "execution_count": 1474,
   "metadata": {},
   "outputs": [
    {
     "data": {
      "image/png": "[encoded data removed]",
      "text/plain": [
       "<Figure size 432x288 with 2 Axes>"
      ]
     },
     "metadata": {
      "needs_background": "light"
     },
     "output_type": "display_data"
    }
   ],
   "source": [
    "point_sources =[ \n",
    "    Point_Source(node=56,value=1),\n",
    "    Point_Source(node=45,value=-1)\n",
    "]\n",
    "grid = Grid(point_sources=point_sources, left_BC_on = False, right_BC_on=False, num_nodes_per_side=10)\n",
    "\n",
    "grid.solve_system()\n",
    "grid.print_system(title=\"Source and sink on larger grid\")"
   ]
  },
  {
   "cell_type": "code",
   "execution_count": 1475,
   "metadata": {},
   "outputs": [
    {
     "data": {
      "image/png": "[encoded data removed]",
      "text/plain": [
       "<Figure size 432x288 with 2 Axes>"
      ]
     },
     "metadata": {
      "needs_background": "light"
     },
     "output_type": "display_data"
    }
   ],
   "source": [
    "# Test with variable right boundary condition f(y) = y + 1 and constant left BC = 0\n",
    "def right_BC(y):\n",
    "    return 1.0+y\n",
    "\n",
    "grid = Grid(right_BC=right_BC,num_nodes_per_side=10)\n",
    "\n",
    "grid.solve_system()\n",
    "grid.print_system(title=\"Boundary conditions of: h1(y)=0, h2(y)=y+1\")"
   ]
  },
  {
   "cell_type": "code",
   "execution_count": 1487,
   "metadata": {},
   "outputs": [
    {
     "data": {
      "image/png": "[encoded data removed]",
      "text/plain": [
       "<Figure size 432x288 with 2 Axes>"
      ]
     },
     "metadata": {
      "needs_background": "light"
     },
     "output_type": "display_data"
    }
   ],
   "source": [
    "def Tx(x,y):\n",
    "    return 1\n",
    "\n",
    "def Ty(x,y):\n",
    "    return 10\n",
    "\n",
    "T = Transmissivity(Tx, Ty)\n",
    "\n",
    "# Only type 1 bcs only, larger grid\n",
    "grid = Grid(num_nodes_per_side=10, left_BC_on=False)\n",
    "grid.solve_system()\n",
    "grid.print_system(title=\"Larger grid with h2=1, no left B.C., Tx=1, Ty=10\")"
   ]
  },
  {
   "cell_type": "code",
   "execution_count": null,
   "metadata": {},
   "outputs": [],
   "source": [
    "# point_sources =[ \n",
    "#     Point_Source(node=56, value=1),\n",
    "#     # Point_Source(node=11,value=1)\n",
    "# ]\n",
    "# def right_BC(y):\n",
    "#     return 0\n",
    "\n",
    "# grid = Grid(point_sources=point_sources, right_BC=right_BC, num_nodes_per_side=10)\n",
    "\n",
    "# grid.solve_system()\n",
    "# grid.print_system(title=\"Single source on larger grid with h1=0 and h2=0\")"
   ]
  },
  {
   "cell_type": "code",
   "execution_count": 1484,
   "metadata": {},
   "outputs": [],
   "source": [
    "# TODO This is not working :(\n",
    "# continuous_sources = [ \n",
    "#     Continuous_Source(1,0,1,0,1)\n",
    "# ]\n",
    "# grid = Grid(continuous_sources=continuous_sources, left_BC_on = False, right_BC_on=False,num_nodes_per_side=10)\n",
    "\n",
    "# grid.solve_system()\n",
    "# grid.print_system()"
   ]
  },
  {
   "cell_type": "code",
   "execution_count": 1483,
   "metadata": {},
   "outputs": [],
   "source": [
    "# # Testing type 2 BCs that aren't zero, not working\n",
    "# grid = Grid(left_BC_on = False, right_BC_on=False, top_BC=1,num_nodes_per_side=4)\n",
    "\n",
    "# grid.solve_system()\n",
    "# grid.print_system()"
   ]
  },
  {
   "cell_type": "code",
   "execution_count": null,
   "metadata": {},
   "outputs": [],
   "source": []
  }
 ],
 "metadata": {
  "kernelspec": {
   "display_name": "Python 3",
   "language": "python",
   "name": "python3"
  },
  "language_info": {
   "codemirror_mode": {
    "name": "ipython",
    "version": 3
   },
   "file_extension": ".py",
   "mimetype": "text/x-python",
   "name": "python",
   "nbconvert_exporter": "python",
   "pygments_lexer": "ipython3",
   "version": "3.9.7 (default, Sep  3 2021, 12:45:31) \n[Clang 12.0.0 (clang-1200.0.32.29)]"
  },
  "orig_nbformat": 4,
  "vscode": {
   "interpreter": {
    "hash": "aee8b7b246df8f9039afb4144a1f6fd8d2ca17a180786b69acc140d282b71a49"
   }
  }
 },
 "nbformat": 4,
 "nbformat_minor": 2
}
